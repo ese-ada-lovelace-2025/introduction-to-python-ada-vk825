{
 "cells": [
  {
   "cell_type": "markdown",
   "metadata": {},
   "source": [
    "# (optional) Practicing Python with Code Katas\n",
    "\n",
    "# Lecture 6\n",
    "\n",
    "## Introduction\n",
    "\n",
    "Like any language, coding in a Python is best learned by doing. Now that you have learned the basics of Python as a programming language, it's time to put your skills to the test by writing code to solve problems based just on their definitioons. In this notebook, you will be presented with a series of coding challenges known as \"katas.\"\n",
    "\n",
    "The term \"kata\" comes from martial arts, where it refers to a detailed choreographed pattern of movements practiced either solo or in pairs. The purpose of a code kata is to provide a challenge that you can work on to improve your skills, and improve your algorithmic thinking. Unlike some of the previous exercises in these lectures, these katas will not have step-by-step instructions. Instead, you will need to use your creativity and problem-solving skills to complete them, although helpful hints are provided along the way if you get stuck.\n",
    "\n",
    "## Quicker kata\n",
    "\n",
    "### Checking for palindromes\n",
    "\n",
    "A palindrome is a word, phrase, number, or other sequence of characters that reads the same forward and backward. For example, \"madam\" is a palindrome, while \"sir\" is not. Write a function that takes a string as input and returns `True` if the string is a palindrome and `False` otherwise. The function should be case-insensitive, so that a string like \"Madam\" is still considered a palindrome, and it should ignore spaces, so that the phrase \"nurses run\" is also considered a palindrome.\n",
    "\n",
    "We've provided a function signature (using type hint annotations) for you to fill in. You can use the example test cases given in the docstring to help guide your implementation.\n"
   ]
  },
  {
   "cell_type": "code",
   "execution_count": 7,
   "metadata": {
    "execution": {
     "iopub.execute_input": "2025-08-13T09:02:09.545762Z",
     "iopub.status.busy": "2025-08-13T09:02:09.545559Z",
     "iopub.status.idle": "2025-08-13T09:02:09.551299Z",
     "shell.execute_reply": "2025-08-13T09:02:09.550671Z"
    }
   },
   "outputs": [
    {
     "data": {
      "text/plain": [
       "True"
      ]
     },
     "execution_count": 7,
     "metadata": {},
     "output_type": "execute_result"
    }
   ],
   "source": [
    "def is_palindrome(s):\n",
    "    \"\"\"\n",
    "    This function tests if the input string is a palindrome or not.\n",
    "    A palindrome is a word that is the same forwards and backwards.\n",
    "    The function should ignore spaces and capitalization.\n",
    "\n",
    "    Examples\n",
    "    --------\n",
    "    >>> is_palindrome('radar')\n",
    "    True\n",
    "    >>> is_palindrome('A man a plan a canal Panama')\n",
    "    True\n",
    "    >>> is_palindrome('hello')\n",
    "    False\n",
    "\n",
    "    The function will not modify the input strings.\n",
    "\n",
    "    >>> test = 'nurse run'\n",
    "    >>> is_palindrome(test)\n",
    "    True\n",
    "    >>> test = 'nurse run'\n",
    "    \"\"\"\n",
    "    s=s.lower()\n",
    "    s=s.replace(\" \",\"\")\n",
    "    return True if s==s[::-1] else False\n",
    "\n",
    "is_palindrome('A man a plan a canal Panama')"
   ]
  },
  {
   "cell_type": "markdown",
   "metadata": {},
   "source": [
    "#### Hints & Tips\n",
    "\n",
    "1. You can use the `[::-1]` slicing syntax to temporarily reverse a string.\n",
    "2. You can use the `'Hi'.casefold()` method to convert a string to lowercase.\n",
    "3. You can use the `str.replace()` method to replace characters in a string.\n",
    "4. Consider when is the best time to make any necessary transformations to the input string (.e.g converting to lowercase)"
   ]
  },
  {
   "cell_type": "markdown",
   "metadata": {},
   "source": [
    "### Checking for anagrams\n",
    "\n",
    "An anagram is a word or phrase formed by rearranging the letters of a different word or phrase, typically using all the original letters exactly once. For example, the word \"listen\" is an anagram of \"silent\". Write a function that takes two strings as input and returns `True` if the two strings are anagrams of each other, and `False` otherwise."
   ]
  },
  {
   "cell_type": "code",
   "execution_count": 9,
   "metadata": {
    "execution": {
     "iopub.execute_input": "2025-08-13T09:02:09.552992Z",
     "iopub.status.busy": "2025-08-13T09:02:09.552836Z",
     "iopub.status.idle": "2025-08-13T09:02:09.555477Z",
     "shell.execute_reply": "2025-08-13T09:02:09.554979Z"
    }
   },
   "outputs": [
    {
     "data": {
      "text/plain": [
       "True"
      ]
     },
     "execution_count": 9,
     "metadata": {},
     "output_type": "execute_result"
    }
   ],
   "source": [
    "def are_anagrams(s1, s2):\n",
    "    \"\"\"\n",
    "    This function tests if the input strings are anagrams of each other.\n",
    "    An anagram is a word that can be formed by rearranging the letters of another word.\n",
    "\n",
    "    Examples\n",
    "    --------\n",
    "\n",
    "    >>> are_anagrams('listen', 'silent')\n",
    "    True\n",
    "    >>> are_anagrams('Orchestra', 'Carthorse')\n",
    "    True\n",
    "    >>> are_anagrams('hello', 'world')\n",
    "    False\n",
    "    >>> test1 = 'Pythonist'\n",
    "    >>> test2 = 'hypnotist'\n",
    "\n",
    "    The function will not modify the input strings.\n",
    "\n",
    "    >>> are_anagrams(test1, test2)\n",
    "    True\n",
    "    >>> test1 == 'Pythonist'\n",
    "    True\n",
    "    >>> test2 == 'hypnotist'\n",
    "    True\n",
    "    \"\"\"\n",
    "    s1=s1.lower()\n",
    "    s2=s2.lower()\n",
    "    return True if sorted(s1)==sorted(s2) else False\n",
    "\n",
    "are_anagrams('listen', 'silent')"
   ]
  },
  {
   "cell_type": "markdown",
   "metadata": {},
   "source": [
    "#### Hints & Tips\n",
    "\n",
    "1. You want to compare the characters in the two strings, but you don't necessarily need to compare them in the order they appear in the string.\n",
    "2. You can use the `sorted()` function to sort the characters in a string. Note that `sorted()` returns a list, so you may need to convert the result back to a string using (e.g.) the `str.join()` method.\n",
    "3. If you generate a list first, you can also use the `[...].sort()` method to sort the list in place."
   ]
  },
  {
   "cell_type": "markdown",
   "metadata": {},
   "source": [
    "### Finding the median\n",
    "\n",
    "The median value of a list is the number which has an equal number of values above and below it. If the list has an odd number of values, the median is the middle value of the sorted version of the list. If the list has an even number of values, the median is the mean of the two values closed to the middle. \n",
    "\n",
    "Write a function that takes a list of numbers as input and returns the median value of the list. Note that the `statistics` module has a `median` function that you can use to help check your work."
   ]
  },
  {
   "cell_type": "code",
   "execution_count": 10,
   "metadata": {
    "execution": {
     "iopub.execute_input": "2025-08-13T09:02:09.557101Z",
     "iopub.status.busy": "2025-08-13T09:02:09.556939Z",
     "iopub.status.idle": "2025-08-13T09:02:09.559605Z",
     "shell.execute_reply": "2025-08-13T09:02:09.559113Z"
    }
   },
   "outputs": [
    {
     "data": {
      "text/plain": [
       "2.5"
      ]
     },
     "execution_count": 10,
     "metadata": {},
     "output_type": "execute_result"
    }
   ],
   "source": [
    "def find_median(nums):\n",
    "    \"\"\"\n",
    "    This function finds the median of an array of numbers.\n",
    "\n",
    "    The median is the middle value in an ordered list. If the size of the list is even, there is\n",
    "    no middle value and the median is the mean of the two values closest to the middle.\n",
    "\n",
    "    Examples\n",
    "    --------\n",
    "\n",
    "    >>> find_median([1.0, 3.0, 2.0])\n",
    "    2.0\n",
    "    >>> find_median([1.0, 2.0, 0.0, 4.0])\n",
    "    1.5\n",
    "    >>> find_median([])\n",
    "    None\n",
    "\n",
    "\n",
    "    The function will not modify the input list.\n",
    "\n",
    "\n",
    "    >>> nums = [1.0, 3.0, 2.0, 4.0]\n",
    "    >>> find_median(nums)\n",
    "    2.5\n",
    "    >>> nums == [1.0, 3.0, 2.0, 4.0]\n",
    "    \"\"\"\n",
    "    nums=sorted(nums)\n",
    "    if len(nums)%2==0:\n",
    "        return (nums[len(nums)//2]+nums[len(nums)//2-1])/2\n",
    "    else:\n",
    "        return nums[len(nums)//2]\n",
    "    \n",
    "nums = [1.0, 3.0, 2.0, 4.0]\n",
    "find_median(nums)\n",
    "    "
   ]
  },
  {
   "cell_type": "markdown",
   "metadata": {},
   "source": [
    "#### Hints & Tips\n",
    "\n",
    "1. You can use the `sorted()` function to sort a list of numbers just as you can use it to sort a string.\n",
    "2. You can use the `len()` function to find the length of a list.\n",
    "3. You can use the `//` operator to perform \"integer\" division (where for example `3//2` is 1). This may be useful for finding the middle element(s) of a list."
   ]
  },
  {
   "cell_type": "markdown",
   "metadata": {},
   "source": [
    "## Harder kata\n",
    "\n",
    "### Insertion sorting\n",
    "\n",
    "There are many different ways to sort a list, such as the [timsort](https://www.geeksforgeeks.org/timsort/) algorithm used in Python, the [bubblesort](https://www.geeksforgeeks.org/bubble-sort/) algorithm (often taught, but which should never be used in production code) or [quicksort](https://www.geeksforgeeks.org/quick-sort/?ref=shm), which might have the best name . One of the easier ways to explain (while still being relevant in real world problems) is to repeatedly take the first unsorted element and insert it into the correct position in the sorted part of the list. This is known as \"insertion sort\".\n",
    "\n",
    "Write a function that takes a list of numbers and returns a new list containing the same numbers in sorted order from lowest to highest via the insertion sort algorithm. You can use the example cases in the docstring to help guide your implementation."
   ]
  },
  {
   "cell_type": "code",
   "execution_count": 1,
   "metadata": {
    "execution": {
     "iopub.execute_input": "2025-08-13T09:02:09.561205Z",
     "iopub.status.busy": "2025-08-13T09:02:09.561058Z",
     "iopub.status.idle": "2025-08-13T09:02:09.563631Z",
     "shell.execute_reply": "2025-08-13T09:02:09.563104Z"
    }
   },
   "outputs": [
    {
     "data": {
      "text/plain": [
       "[1, 2, 3]"
      ]
     },
     "execution_count": 1,
     "metadata": {},
     "output_type": "execute_result"
    }
   ],
   "source": [
    "def insertion_sort(nums):\n",
    "    \"\"\"\n",
    "    This function sorts an array of numbers using the insertion sort algorithm.\n",
    "\n",
    "    Examples\n",
    "    --------\n",
    "\n",
    "    >>> insertion_sort([3, 1, 2])\n",
    "    [1, 2, 3]\n",
    "    >>> insertion_sort([3, 1, 2, 4])\n",
    "    [1, 2, 3, 4]\n",
    "    >>> insertion_sort([])\n",
    "    []\n",
    "    \"\"\"\n",
    "    sorted_list = []\n",
    "    is_sorted = False\n",
    "    for num in nums:\n",
    "        while not is_sorted:\n",
    "            if len(sorted_list) ==0:\n",
    "                sorted_list.append(num)\n",
    "                break\n",
    "            for i in range(len(sorted_list)):\n",
    "                if num < sorted_list[i]:\n",
    "                    sorted_list.insert(i,num)\n",
    "                    break\n",
    "                else: continue\n",
    "\n",
    "            if num >= sorted_list[-1]:\n",
    "                sorted_list.append(num)\n",
    "            is_sorted = True\n",
    "        is_sorted = False\n",
    "    return sorted_list\n",
    "\n",
    "\n",
    "insertion_sort([3, 1, 2])"
   ]
  },
  {
   "cell_type": "markdown",
   "metadata": {},
   "source": [
    "#### Hints & Tips\n",
    "\n",
    "1. You will need a new list to store your sorted elements.\n",
    "2. You can use the `list.insert()` method to insert an element at a specific position in a list.\n",
    "3. You will need to iterate over the input list and insert each element into the correct position in the new list. Remember that the new list will be sorted, so if the $n$th element is greater than the test number, the $n+1$th element will be too.\n",
    "\n",
    "### Finding perfect numbers\n",
    "\n",
    "A perfect number is a positive integer that is equal to the sum of its proper divisors, excluding itself. For example, the first perfect number is 6, because its proper divisors are 1, 2, and 3, and 1 + 2 + 3 = 6. We call numbers where the sum of the proper divisors is less than the number itself \"deficient\". For example, all prime numbers are deficent, since their only factor is 1. Numbers where the sum of the proper divisors is greater than the number itself a*re called \"abundant\". The first abundant number is 12, because its proper divisors are 1, 2, 3, 4, and 6, and 1 + 2 + 3 + 4 + 6 = 16 > 12.\n",
    "\n",
    "Write a function that takes an integer as input and returns `1`  if the number is abundant, `0` if it is perfect and -1 if it is deficient. You can use the example cases in the docstring to help guide your implementation."
   ]
  },
  {
   "cell_type": "code",
   "execution_count": 5,
   "metadata": {
    "execution": {
     "iopub.execute_input": "2025-08-13T09:02:09.565255Z",
     "iopub.status.busy": "2025-08-13T09:02:09.565100Z",
     "iopub.status.idle": "2025-08-13T09:02:09.567821Z",
     "shell.execute_reply": "2025-08-13T09:02:09.567315Z"
    }
   },
   "outputs": [
    {
     "data": {
      "text/plain": [
       "1"
      ]
     },
     "execution_count": 5,
     "metadata": {},
     "output_type": "execute_result"
    }
   ],
   "source": [
    "def check_perfect(n):\n",
    "    \"\"\"\n",
    "    This function tests if the input number is an abundant, perfect or deficient number.\n",
    "\n",
    "    An abundant number is a positive integer that is smaller than the sum of its proper\n",
    "    divisors. A perfect number is a positive integer that is equal to the sum of its\n",
    "    proper divisors. A deficient number is a positive integer that is greater than the\n",
    "    sum of its proper divisors.\n",
    "\n",
    "    The function returns 1 if the number is abundant, 0 if it is perfect and -1 if it is\n",
    "    deficient.\n",
    "\n",
    "    Examples\n",
    "    --------\n",
    "\n",
    "    >>> check_perfect(6)\n",
    "    0\n",
    "    >>> check_perfect(5)\n",
    "    -1  \n",
    "    >>> check_perfect(12)\n",
    "    1\n",
    "    >>> check_perfect(28)\n",
    "    0\n",
    "    \"\"\"\n",
    "    divisor_sum = 0\n",
    "    for i in range(1,n):\n",
    "        if n%i==0:\n",
    "            divisor_sum+=i\n",
    "        else: continue\n",
    "    \n",
    "    if divisor_sum>n:\n",
    "        return  1\n",
    "    elif divisor_sum==n:\n",
    "        return 0\n",
    "    else:\n",
    "        return -1\n",
    "    \n",
    "check_perfect(12)\n"
   ]
  },
  {
   "cell_type": "markdown",
   "metadata": {},
   "source": [
    "#### Hints & Tips\n",
    "\n",
    "1. You can use the modulo operator `%` to check if one number is a divisor of another.\n",
    "2. You can use the `range(a, b)` function to generate a sequence of numbers to test as divisors. You only actually need to test numbers up to the square root of the input number, because any divisors larger than that will have a corresponding divisor smaller than the square root. Each time you find a divisor, you can also add its pair to the list of divisors (just check not to add the number itself, or to double count if you're testing a square number).\n",
    "3. Python has an inbuilt `sum()` function that you can use to sum the elements of a list, but it can be faster to keep a running total in a variable.\n",
    "4. Simple implementations can be slow when testing large numbers. Can you think of any ways to spped up your algorithm? Think about when we first know that the sum of factors will be greater than the number itself.\n",
    "\n",
    "#### Further reading\n",
    "\n",
    "* [Perfect numbers](https://en.wikipedia.org/wiki/Perfect_number)\n",
    "* [Deficient numbers](https://en.wikipedia.org/wiki/Deficient_number)\n",
    "* [Abundant numbers](https://en.wikipedia.org/wiki/Abundant_number)\n",
    "* [Estimating the density of abundant numbers](https://digitalcommons.cwu.edu/cgi/viewcontent.cgi?article=1059&context=math)"
   ]
  },
  {
   "cell_type": "markdown",
   "metadata": {},
   "source": [
    "## Looking for more?\n",
    "\n",
    "If you're looking for even more practice, you can find many more katas on websites like [CodeWars](https://www.codewars.com/) and [LeetCode](https://leetcode.com/). These websites allow you to practice your skills by completing coding challenges and comparing your solutions to others."
   ]
  }
 ],
 "metadata": {
  "kernelspec": {
   "display_name": "Python 3",
   "language": "python",
   "name": "python3"
  },
  "language_info": {
   "codemirror_mode": {
    "name": "ipython",
    "version": 3
   },
   "file_extension": ".py",
   "mimetype": "text/x-python",
   "name": "python",
   "nbconvert_exporter": "python",
   "pygments_lexer": "ipython3",
   "version": "3.11.4"
  }
 },
 "nbformat": 4,
 "nbformat_minor": 2
}
